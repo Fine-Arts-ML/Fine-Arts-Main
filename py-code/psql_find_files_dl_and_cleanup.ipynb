{
 "cells": [
  {
   "cell_type": "code",
   "execution_count": 13,
   "id": "e4e9a955",
   "metadata": {},
   "outputs": [],
   "source": [
    "import os\n",
    "import pg8000\n",
    "from dotenv import load_dotenv\n",
    "import os\n",
    "import sqlalchemy\n",
    "from sqlalchemy import create_engine\n",
    "from sqlalchemy import inspect\n",
    "import pandas as pd\n",
    "import subprocess\n",
    "import os\n",
    "from tqdm import tqdm\n",
    "\n",
    "\n"
   ]
  },
  {
   "cell_type": "code",
   "execution_count": 3,
   "id": "7a464c85",
   "metadata": {},
   "outputs": [],
   "source": [
    "# Load environment variables from .env file\n",
    "load_dotenv()\n",
    "\n",
    "# Database connection details\n",
    "DB_HOST = os.getenv(\"DB_HOST\")\n",
    "DB_NAME = os.getenv(\"DB_NAME\")\n",
    "DB_USER = os.getenv(\"DB_USER\")\n",
    "DB_PASSWORD = os.getenv(\"DB_PASSWORD\")\n"
   ]
  },
  {
   "cell_type": "code",
   "execution_count": 4,
   "id": "9a3ef7f7",
   "metadata": {},
   "outputs": [],
   "source": [
    "engine = create_engine('postgresql+pg8000://'+DB_USER+':'+DB_PASSWORD+'@'+DB_HOST+':5432/'+DB_NAME)"
   ]
  },
  {
   "cell_type": "code",
   "execution_count": 5,
   "id": "555e0d2d",
   "metadata": {},
   "outputs": [],
   "source": [
    "Querry_string = \"SELECT storage, fileid, path, path_hash, name, etag FROM public.oc_filecache WHERE path like 'files/%' and (path LIKE '%.JPG' OR path LIKE '%.jpg') and storage = 1 ORDER BY fileid DESC LIMIT 10000\""
   ]
  },
  {
   "cell_type": "code",
   "execution_count": 6,
   "id": "5fbc52a0",
   "metadata": {},
   "outputs": [
    {
     "name": "stdout",
     "output_type": "stream",
     "text": [
      "done\n"
     ]
    }
   ],
   "source": [
    "try:\n",
    "\tdf_file_loc = pd.read_sql_query(sqlalchemy.text(Querry_string), engine)\n",
    "\tprint(\"done\")\n",
    "except Exception as e:\n",
    "\tprint(\"Error:\", e)"
   ]
  },
  {
   "cell_type": "code",
   "execution_count": 7,
   "id": "3eec184c",
   "metadata": {},
   "outputs": [],
   "source": [
    "Querry_string = \"SELECT * FROM public.oc_storages ORDER BY numeric_id ASC LIMIT 100\""
   ]
  },
  {
   "cell_type": "code",
   "execution_count": 8,
   "id": "ba99393d",
   "metadata": {},
   "outputs": [
    {
     "name": "stdout",
     "output_type": "stream",
     "text": [
      "done\n"
     ]
    }
   ],
   "source": [
    "try:\n",
    "\tdf_user_loc = pd.read_sql_query(sqlalchemy.text(Querry_string), engine)\n",
    "\tprint(\"done\")\n",
    "except Exception as e:\n",
    "\tprint(\"Error:\", e)"
   ]
  },
  {
   "cell_type": "code",
   "execution_count": 9,
   "id": "6518fbc2",
   "metadata": {},
   "outputs": [],
   "source": [
    "df_user_loc['id_clean'] = df_user_loc['id'].str.replace('(home::|local::)', '', regex=True)"
   ]
  },
  {
   "cell_type": "code",
   "execution_count": 10,
   "id": "6d63adc7",
   "metadata": {},
   "outputs": [],
   "source": [
    "df_file_loc = pd.merge(df_file_loc, df_user_loc[['numeric_id', 'id_clean']], \n",
    "          left_on='storage', \n",
    "          right_on='numeric_id', \n",
    "          how='left')"
   ]
  },
  {
   "cell_type": "code",
   "execution_count": 11,
   "id": "93f634ea",
   "metadata": {},
   "outputs": [],
   "source": [
    "df_file_loc['full_path'] = df_file_loc['id_clean'].astype(str) + '/' + df_file_loc['path'].astype(str)"
   ]
  },
  {
   "cell_type": "code",
   "execution_count": 27,
   "id": "ab2043bf",
   "metadata": {},
   "outputs": [
    {
     "name": "stdout",
     "output_type": "stream",
     "text": [
      "['Tom/files/Bre/Copyright_infringement/2025/KunstKopie/kk jpgs einzeln/ausschnitte_aus_der_mitte_des_jahrhunderts.jpg', 'Tom/files/Bre/Copyright_infringement/2025/KunstKopie/kk jpgs einzeln/ausschnitte_bauhaus_2_kopie.jpg', 'Tom/files/Bre/Copyright_infringement/2025/KunstKopie/kk jpgs einzeln/ausschnitte_aus_der_mitte_des_jahrhunderts2.jpg', 'Tom/files/Bre/Copyright_infringement/2025/KunstKopie/kk jpgs einzeln/aqua_shapes4_kopie.jpg', 'Tom/files/Bre/Copyright_infringement/2025/KunstKopie/kk jpgs einzeln/aqua_shapes3_kopie.jpg', 'Tom/files/Bre/Copyright_infringement/2025/KunstKopie/kk jpgs einzeln/aqua_shapes2_kopie.jpg', 'Tom/files/Bre/Copyright_infringement/2025/KunstKopie/kk jpgs einzeln/aquarell_miro_shapes_kopie.jpg', 'Tom/files/Bre/Copyright_infringement/2025/KunstKopie/kk jpgs einzeln/aqua_shapes1_kopie.jpg', 'Tom/files/Bre/Copyright_infringement/2025/KunstKopie/kk jpgs einzeln/aquarell_miro_shapes3e_kopie.jpg', 'Tom/files/Bre/Copyright_infringement/2025/KunstKopie/kk jpgs einzeln/aquarell_miro_shapes4_kopie.jpg']\n"
     ]
    },
    {
     "name": "stderr",
     "output_type": "stream",
     "text": [
      "100%|██████████| 10/10 [00:17<00:00,  1.73s/it]\n"
     ]
    }
   ],
   "source": [
    "# Get first 10 paths from dataframe\n",
    "paths = df_file_loc['full_path'].tail(10).tolist()\n",
    "\n",
    "# Base remote path\n",
    "remote_base = os.getenv(\"REMOTE_BASE_PATH\")\n",
    "\n",
    "# password and user\n",
    "password = os.getenv(\"SSHPASS\")\n",
    "ssh_user = os.getenv(\"SSHUSER\")\n",
    "ssh_ip = os.getenv(\"SSHIP\")\n",
    "\n",
    "# Create a cache directory if it doesn't exist\n",
    "cache_dir = 'image_cache'\n",
    "os.makedirs(cache_dir, exist_ok=True)\n",
    "print(paths)\n",
    "# SSH command to list files\n",
    "for path in tqdm(paths):\n",
    "    # Clean the path (remove 'files/' prefix)\n",
    "    full_path = f\"{remote_base}{path}\"\n",
    "    # Escape spaces in the path for shell commands\n",
    "    escaped_path = full_path.replace(' ', '\\\\ ')\n",
    "    \n",
    "    # Execute SSH command with sudo and provide password through stdin\n",
    "    cmd = f'''sshpass -p {password} ssh -o StrictHostKeyChecking=no {ssh_user}@{ssh_ip} \"echo {password} | sudo -S ls -l '{full_path}'\"'''\n",
    "    try:\n",
    "        result = subprocess.run(cmd, shell=True, stdout=subprocess.DEVNULL, stderr=subprocess.PIPE)\n",
    "\n",
    "        # Extract the filename from the path\n",
    "        filename = os.path.basename(path)\n",
    "        local_path = os.path.join(cache_dir, filename)\n",
    "\n",
    "        # Use sudo with SCP to copy the file\n",
    "        scp_cmd = f'''sshpass -p {password} ssh -o StrictHostKeyChecking=no {ssh_user}@{ssh_ip} \"echo {password} | sudo -S cat '{full_path}'\" > \"{local_path}\"'''\n",
    "        scp_result = subprocess.run(scp_cmd, shell=True, stdout=subprocess.DEVNULL, stderr=subprocess.PIPE)\n",
    "\n",
    "        if os.path.getsize(local_path) < 1:\n",
    "            print(f\"Error copying file {filename}\")\n",
    "    except Exception as e:\n",
    "        print(f\"Error accessing {full_path}: {str(e)}\")\n"
   ]
  },
  {
   "cell_type": "code",
   "execution_count": null,
   "id": "a842a68b",
   "metadata": {},
   "outputs": [
    {
     "name": "stderr",
     "output_type": "stream",
     "text": [
      "100%|██████████| 20/20 [00:00<00:00, 327.85it/s]\n"
     ]
    }
   ],
   "source": [
    "#cleanup cache directory\n",
    "os.listdir(cache_dir)\n",
    "for file in tqdm(os.listdir(cache_dir)):\n",
    "    file_path = os.path.join(cache_dir, file)\n",
    "    if os.path.isfile(file_path):\n",
    "        os.remove(file_path)"
   ]
  },
  {
   "cell_type": "code",
   "execution_count": null,
   "id": "9f2edfb5",
   "metadata": {},
   "outputs": [],
   "source": []
  }
 ],
 "metadata": {
  "kernelspec": {
   "display_name": ".venv",
   "language": "python",
   "name": "python3"
  },
  "language_info": {
   "codemirror_mode": {
    "name": "ipython",
    "version": 3
   },
   "file_extension": ".py",
   "mimetype": "text/x-python",
   "name": "python",
   "nbconvert_exporter": "python",
   "pygments_lexer": "ipython3",
   "version": "3.13.3"
  }
 },
 "nbformat": 4,
 "nbformat_minor": 5
}
