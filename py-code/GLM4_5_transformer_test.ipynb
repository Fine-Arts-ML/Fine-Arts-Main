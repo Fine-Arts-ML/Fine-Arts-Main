{
 "cells": [
  {
   "cell_type": "code",
   "execution_count": 5,
   "id": "af93b788",
   "metadata": {},
   "outputs": [],
   "source": [
    "import os\n",
    "from dotenv import load_dotenv\n",
    "from PIL import Image\n",
    "import requests\n",
    "from datetime import datetime, timedelta\n",
    "from tqdm import tqdm\n",
    "import time"
   ]
  },
  {
   "cell_type": "code",
   "execution_count": 6,
   "id": "6710271e",
   "metadata": {},
   "outputs": [],
   "source": [
    "# Load environment variables from .env file\n",
    "load_dotenv()\n",
    "\n",
    "# Database connection details\n",
    "cache_dir = os.getenv(\"CACHE_DIR\")\n",
    "working_dir = os.getcwd()\n",
    "full_path = os.path.realpath(cache_dir)\n",
    "image_cache_list = os.listdir(cache_dir)\n",
    "image_list = []\n",
    "for pic in image_cache_list:\n",
    "    pic_path = os.path.join(cache_dir, pic)\n",
    "    image_list.append(pic_path)\n",
    "\n",
    "#image_list"
   ]
  },
  {
   "cell_type": "code",
   "execution_count": 7,
   "id": "461b5b24",
   "metadata": {},
   "outputs": [],
   "source": [
    "image = image_list[0]"
   ]
  },
  {
   "cell_type": "code",
   "execution_count": 8,
   "id": "a568c803",
   "metadata": {},
   "outputs": [
    {
     "name": "stderr",
     "output_type": "stream",
     "text": [
      "/Users/tom/Fine-arts-ML/Fine-Arts-Main/.venv_glm/lib/python3.12/site-packages/tqdm/auto.py:21: TqdmWarning: IProgress not found. Please update jupyter and ipywidgets. See https://ipywidgets.readthedocs.io/en/stable/user_install.html\n",
      "  from .autonotebook import tqdm as notebook_tqdm\n"
     ]
    },
    {
     "ename": "ImportError",
     "evalue": "cannot import name 'AutoModelForConditionalGeneration' from 'transformers' (/Users/tom/Fine-arts-ML/Fine-Arts-Main/.venv_glm/lib/python3.12/site-packages/transformers/__init__.py)",
     "output_type": "error",
     "traceback": [
      "\u001b[31m---------------------------------------------------------------------------\u001b[39m",
      "\u001b[31mImportError\u001b[39m                               Traceback (most recent call last)",
      "\u001b[36mCell\u001b[39m\u001b[36m \u001b[39m\u001b[32mIn[8]\u001b[39m\u001b[32m, line 1\u001b[39m\n\u001b[32m----> \u001b[39m\u001b[32m1\u001b[39m \u001b[38;5;28;01mfrom\u001b[39;00m\u001b[38;5;250m \u001b[39m\u001b[34;01mtransformers\u001b[39;00m\u001b[38;5;250m \u001b[39m\u001b[38;5;28;01mimport\u001b[39;00m AutoProcessor, AutoModelForConditionalGeneration\n\u001b[32m      2\u001b[39m \u001b[38;5;28;01mfrom\u001b[39;00m\u001b[38;5;250m \u001b[39m\u001b[34;01mPIL\u001b[39;00m\u001b[38;5;250m \u001b[39m\u001b[38;5;28;01mimport\u001b[39;00m Image\n\u001b[32m      3\u001b[39m \u001b[38;5;28;01mimport\u001b[39;00m\u001b[38;5;250m \u001b[39m\u001b[34;01mrequests\u001b[39;00m\n",
      "\u001b[31mImportError\u001b[39m: cannot import name 'AutoModelForConditionalGeneration' from 'transformers' (/Users/tom/Fine-arts-ML/Fine-Arts-Main/.venv_glm/lib/python3.12/site-packages/transformers/__init__.py)"
     ]
    }
   ],
   "source": [
    "from transformers import AutoProcessor, AutoModelForConditionalGeneration\n",
    "from PIL import Image\n",
    "import requests\n",
    "import torch\n",
    "\n",
    "# Load model and processor\n",
    "model_id = \"zai-org/GLM-4.5V-FP8\"\n",
    "model = AutoModelForConditionalGeneration.from_pretrained(\n",
    "    model_id,\n",
    "    torch_dtype=\"auto\",\n",
    "    device_map=\"auto\",\n",
    "    trust_remote_code=True\n",
    ")\n",
    "processor = AutoProcessor.from_pretrained(model_id, trust_remote_code=True)\n",
    "\n",
    "# Example image loading (replace with your image path or URL)\n",
    "image_url = \"https://huggingface.co/datasets/huggingface/documentation-images/resolve/main/transformers/tasks/car.jpg\"\n",
    "image = Image.open(requests.get(image_url, stream=True).raw).convert(\"RGB\")\n",
    "\n",
    "# Prepare the prompt\n",
    "prompt = \"Describe this car in detail.\"\n",
    "messages = [\n",
    "    {\"role\": \"user\", \"content\": [{\"type\": \"image\", \"image\": image}, {\"type\": \"text\", \"text\": prompt}]}\n",
    "]\n",
    "\n",
    "# Apply chat template and preprocess image\n",
    "input_ids = processor.apply_chat_template(messages, add_generation_prompt=True, return_tensors=\"pt\")\n",
    "pixel_values = processor.preprocess_images(image, return_tensors=\"pt\")\n",
    "\n",
    "# Generate response\n",
    "with torch.no_grad():\n",
    "    output_ids = model.generate(\n",
    "        input_ids.to(model.device),\n",
    "        pixel_values=pixel_values.to(model.device),\n",
    "        max_new_tokens=512\n",
    "    )\n",
    "\n",
    "response = processor.decode(output_ids[0], skip_special_tokens=True)\n",
    "print(response)\n"
   ]
  },
  {
   "cell_type": "code",
   "execution_count": null,
   "id": "6814eb3f",
   "metadata": {},
   "outputs": [],
   "source": []
  },
  {
   "cell_type": "code",
   "execution_count": null,
   "id": "bf980782",
   "metadata": {},
   "outputs": [],
   "source": []
  }
 ],
 "metadata": {
  "kernelspec": {
   "display_name": ".venv3_12",
   "language": "python",
   "name": "python3"
  },
  "language_info": {
   "codemirror_mode": {
    "name": "ipython",
    "version": 3
   },
   "file_extension": ".py",
   "mimetype": "text/x-python",
   "name": "python",
   "nbconvert_exporter": "python",
   "pygments_lexer": "ipython3",
   "version": "3.12.8"
  }
 },
 "nbformat": 4,
 "nbformat_minor": 5
}
