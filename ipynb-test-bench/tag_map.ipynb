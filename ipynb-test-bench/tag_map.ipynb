{
 "cells": [
  {
   "cell_type": "code",
   "execution_count": 45,
   "id": "7984594e",
   "metadata": {},
   "outputs": [],
   "source": [
    "import sys\n",
    "import psql_handler\n",
    "from image_tags import get_tags_from_cache\n",
    "from psql_handler import create_db_connection\n",
    "import os \n",
    "from dotenv import load_dotenv\n",
    "from multiprocessing import Pool\n",
    "import pandas as pd\n",
    "import sqlalchemy\n",
    "from sqlalchemy import create_engine\n",
    "from sqlalchemy import inspect\n",
    "load_dotenv()\n",
    "cache_dir = os.getenv(\"CACHE_DIR\")"
   ]
  },
  {
   "cell_type": "code",
   "execution_count": 46,
   "id": "5357c570",
   "metadata": {},
   "outputs": [],
   "source": [
    "DB_HOST = os.getenv(\"DB_HOST\")\n",
    "DB_NAME = os.getenv(\"DB_NAME\")\n",
    "DB_USER = os.getenv(\"DB_USER\")\n",
    "DB_PASSWORD = os.getenv(\"DB_PASSWORD\")\n",
    "engine = create_engine('postgresql+pg8000://'+DB_USER+':'+DB_PASSWORD+'@'+DB_HOST+':5432/'+DB_NAME)"
   ]
  },
  {
   "cell_type": "code",
   "execution_count": 47,
   "id": "cf4c01c1",
   "metadata": {},
   "outputs": [],
   "source": [
    "def get_all_tags(engine):\n",
    "    QUERRY = \"SELECT * FROM public.oc_systemtag\"\n",
    "    try:\n",
    "        df_tags = pd.read_sql_query(sqlalchemy.text(QUERRY), engine)\n",
    "        print(\"got tags\")\n",
    "    except Exception as e:\n",
    "        print(\"Error:\", e)\n",
    "    return df_tags"
   ]
  },
  {
   "cell_type": "code",
   "execution_count": 48,
   "id": "929e5800",
   "metadata": {},
   "outputs": [
    {
     "name": "stdout",
     "output_type": "stream",
     "text": [
      "got tags\n"
     ]
    }
   ],
   "source": [
    "tags = pd.read_csv('image_cache/tags.csv')\n",
    "df_file_loc = pd.read_csv( \"image_cache/db.csv\")\n",
    "\n",
    "\n",
    "# Map tags to fileids\n",
    "df_all_tag = get_all_tags(engine)\n",
    "df_map = df_file_loc[['fileid', 'tags']]\n",
    "df_map = df_map.assign(tags=df_map['tags'].str.split(';'))\n",
    "df_map = df_map.explode('tags')\n",
    "df_map['tags'] = df_map['tags'].str.strip()\n",
    "\n",
    "\n",
    "\n",
    "\n",
    "# Assuming:\n",
    "# df_all_tags has columns: id, name\n",
    "# df_source has columns: fileid, tags\n",
    "\n",
    "\n",
    "\n"
   ]
  },
  {
   "cell_type": "code",
   "execution_count": 49,
   "id": "74e4ee36",
   "metadata": {},
   "outputs": [],
   "source": [
    "# Merge df_source with df_all_tags on tag name\n",
    "df_result = pd.merge(\n",
    "    df_map,\n",
    "    df_all_tag,\n",
    "    left_on='tags',\n",
    "    right_on='name',\n",
    "    how='inner'\n",
    ")\n",
    "\n",
    "# Select only the columns needed\n",
    "df_result = df_result[['fileid', 'id']]\n",
    "df_result.columns = ['objectid', 'systemtagid']\n",
    "df_result['objecttype'] = \"files\""
   ]
  },
  {
   "cell_type": "code",
   "execution_count": 50,
   "id": "3f84fd7f",
   "metadata": {},
   "outputs": [
    {
     "data": {
      "application/vnd.microsoft.datawrangler.viewer.v0+json": {
       "columns": [
        {
         "name": "index",
         "rawType": "int64",
         "type": "integer"
        },
        {
         "name": "objectid",
         "rawType": "int64",
         "type": "integer"
        },
        {
         "name": "systemtagid",
         "rawType": "int64",
         "type": "integer"
        },
        {
         "name": "objecttype",
         "rawType": "object",
         "type": "string"
        }
       ],
       "ref": "785c2666-6a9b-4107-99b3-bdf02467c624",
       "rows": [
        [
         "0",
         "19790",
         "3",
         "files"
        ],
        [
         "1",
         "19790",
         "4",
         "files"
        ],
        [
         "2",
         "19790",
         "5",
         "files"
        ],
        [
         "3",
         "19790",
         "6",
         "files"
        ],
        [
         "4",
         "19790",
         "7",
         "files"
        ],
        [
         "5",
         "19790",
         "8",
         "files"
        ],
        [
         "6",
         "19790",
         "9",
         "files"
        ],
        [
         "7",
         "19790",
         "10",
         "files"
        ],
        [
         "8",
         "19790",
         "11",
         "files"
        ],
        [
         "9",
         "19790",
         "12",
         "files"
        ],
        [
         "10",
         "19736",
         "13",
         "files"
        ],
        [
         "11",
         "19736",
         "14",
         "files"
        ],
        [
         "12",
         "19736",
         "15",
         "files"
        ],
        [
         "13",
         "19736",
         "16",
         "files"
        ],
        [
         "14",
         "19736",
         "17",
         "files"
        ],
        [
         "15",
         "19736",
         "18",
         "files"
        ],
        [
         "16",
         "19736",
         "19",
         "files"
        ],
        [
         "17",
         "19736",
         "20",
         "files"
        ],
        [
         "18",
         "19736",
         "21",
         "files"
        ],
        [
         "19",
         "19736",
         "22",
         "files"
        ],
        [
         "20",
         "19730",
         "13",
         "files"
        ],
        [
         "21",
         "19730",
         "14",
         "files"
        ],
        [
         "22",
         "19730",
         "23",
         "files"
        ],
        [
         "23",
         "19730",
         "8",
         "files"
        ],
        [
         "24",
         "19730",
         "24",
         "files"
        ],
        [
         "25",
         "19730",
         "17",
         "files"
        ],
        [
         "26",
         "19730",
         "16",
         "files"
        ],
        [
         "27",
         "19730",
         "22",
         "files"
        ],
        [
         "28",
         "19730",
         "15",
         "files"
        ],
        [
         "29",
         "19730",
         "20",
         "files"
        ],
        [
         "30",
         "19729",
         "25",
         "files"
        ],
        [
         "31",
         "19729",
         "26",
         "files"
        ],
        [
         "32",
         "19729",
         "27",
         "files"
        ],
        [
         "33",
         "19729",
         "28",
         "files"
        ],
        [
         "34",
         "19729",
         "29",
         "files"
        ],
        [
         "35",
         "19729",
         "30",
         "files"
        ],
        [
         "36",
         "19729",
         "31",
         "files"
        ],
        [
         "37",
         "19729",
         "32",
         "files"
        ],
        [
         "38",
         "19729",
         "20",
         "files"
        ],
        [
         "39",
         "19729",
         "16",
         "files"
        ],
        [
         "40",
         "19728",
         "28",
         "files"
        ],
        [
         "41",
         "19728",
         "33",
         "files"
        ],
        [
         "42",
         "19728",
         "26",
         "files"
        ],
        [
         "43",
         "19728",
         "30",
         "files"
        ],
        [
         "44",
         "19728",
         "34",
         "files"
        ],
        [
         "45",
         "19728",
         "29",
         "files"
        ],
        [
         "46",
         "19728",
         "31",
         "files"
        ],
        [
         "47",
         "19728",
         "35",
         "files"
        ],
        [
         "48",
         "19728",
         "21",
         "files"
        ],
        [
         "49",
         "19728",
         "20",
         "files"
        ]
       ],
       "shape": {
        "columns": 3,
        "rows": 281
       }
      },
      "text/html": [
       "<div>\n",
       "<style scoped>\n",
       "    .dataframe tbody tr th:only-of-type {\n",
       "        vertical-align: middle;\n",
       "    }\n",
       "\n",
       "    .dataframe tbody tr th {\n",
       "        vertical-align: top;\n",
       "    }\n",
       "\n",
       "    .dataframe thead th {\n",
       "        text-align: right;\n",
       "    }\n",
       "</style>\n",
       "<table border=\"1\" class=\"dataframe\">\n",
       "  <thead>\n",
       "    <tr style=\"text-align: right;\">\n",
       "      <th></th>\n",
       "      <th>objectid</th>\n",
       "      <th>systemtagid</th>\n",
       "      <th>objecttype</th>\n",
       "    </tr>\n",
       "  </thead>\n",
       "  <tbody>\n",
       "    <tr>\n",
       "      <th>0</th>\n",
       "      <td>19790</td>\n",
       "      <td>3</td>\n",
       "      <td>files</td>\n",
       "    </tr>\n",
       "    <tr>\n",
       "      <th>1</th>\n",
       "      <td>19790</td>\n",
       "      <td>4</td>\n",
       "      <td>files</td>\n",
       "    </tr>\n",
       "    <tr>\n",
       "      <th>2</th>\n",
       "      <td>19790</td>\n",
       "      <td>5</td>\n",
       "      <td>files</td>\n",
       "    </tr>\n",
       "    <tr>\n",
       "      <th>3</th>\n",
       "      <td>19790</td>\n",
       "      <td>6</td>\n",
       "      <td>files</td>\n",
       "    </tr>\n",
       "    <tr>\n",
       "      <th>4</th>\n",
       "      <td>19790</td>\n",
       "      <td>7</td>\n",
       "      <td>files</td>\n",
       "    </tr>\n",
       "    <tr>\n",
       "      <th>...</th>\n",
       "      <td>...</td>\n",
       "      <td>...</td>\n",
       "      <td>...</td>\n",
       "    </tr>\n",
       "    <tr>\n",
       "      <th>276</th>\n",
       "      <td>19552</td>\n",
       "      <td>91</td>\n",
       "      <td>files</td>\n",
       "    </tr>\n",
       "    <tr>\n",
       "      <th>277</th>\n",
       "      <td>19552</td>\n",
       "      <td>14</td>\n",
       "      <td>files</td>\n",
       "    </tr>\n",
       "    <tr>\n",
       "      <th>278</th>\n",
       "      <td>19552</td>\n",
       "      <td>6</td>\n",
       "      <td>files</td>\n",
       "    </tr>\n",
       "    <tr>\n",
       "      <th>279</th>\n",
       "      <td>19552</td>\n",
       "      <td>16</td>\n",
       "      <td>files</td>\n",
       "    </tr>\n",
       "    <tr>\n",
       "      <th>280</th>\n",
       "      <td>19552</td>\n",
       "      <td>20</td>\n",
       "      <td>files</td>\n",
       "    </tr>\n",
       "  </tbody>\n",
       "</table>\n",
       "<p>281 rows × 3 columns</p>\n",
       "</div>"
      ],
      "text/plain": [
       "     objectid  systemtagid objecttype\n",
       "0       19790            3      files\n",
       "1       19790            4      files\n",
       "2       19790            5      files\n",
       "3       19790            6      files\n",
       "4       19790            7      files\n",
       "..        ...          ...        ...\n",
       "276     19552           91      files\n",
       "277     19552           14      files\n",
       "278     19552            6      files\n",
       "279     19552           16      files\n",
       "280     19552           20      files\n",
       "\n",
       "[281 rows x 3 columns]"
      ]
     },
     "execution_count": 50,
     "metadata": {},
     "output_type": "execute_result"
    }
   ],
   "source": [
    "df_result"
   ]
  },
  {
   "cell_type": "code",
   "execution_count": 53,
   "id": "46c6eb79",
   "metadata": {},
   "outputs": [
    {
     "data": {
      "text/plain": [
       "281"
      ]
     },
     "execution_count": 53,
     "metadata": {},
     "output_type": "execute_result"
    }
   ],
   "source": [
    "df_result.to_sql('oc_systemtag_object_mapping', engine, if_exists=\"append\", index=False)\n"
   ]
  },
  {
   "cell_type": "code",
   "execution_count": null,
   "id": "779d432b",
   "metadata": {},
   "outputs": [],
   "source": []
  }
 ],
 "metadata": {
  "kernelspec": {
   "display_name": ".venv",
   "language": "python",
   "name": "python3"
  },
  "language_info": {
   "codemirror_mode": {
    "name": "ipython",
    "version": 3
   },
   "file_extension": ".py",
   "mimetype": "text/x-python",
   "name": "python",
   "nbconvert_exporter": "python",
   "pygments_lexer": "ipython3",
   "version": "3.12.8"
  }
 },
 "nbformat": 4,
 "nbformat_minor": 5
}
