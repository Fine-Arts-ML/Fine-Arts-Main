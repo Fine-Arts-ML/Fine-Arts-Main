{
 "cells": [
  {
   "cell_type": "code",
   "execution_count": 1,
   "id": "e4e9a955",
   "metadata": {},
   "outputs": [],
   "source": [
    "import os\n",
    "import pg8000\n",
    "from dotenv import load_dotenv\n",
    "import os\n",
    "import sqlalchemy\n",
    "from sqlalchemy import create_engine\n",
    "from sqlalchemy import inspect\n",
    "import pandas as pd\n"
   ]
  },
  {
   "cell_type": "code",
   "execution_count": 2,
   "id": "7a464c85",
   "metadata": {},
   "outputs": [],
   "source": [
    "# Load environment variables from .env file\n",
    "load_dotenv()\n",
    "\n",
    "# Database connection details\n",
    "DB_HOST = os.getenv(\"DB_HOST\")\n",
    "DB_NAME = os.getenv(\"DB_NAME\")\n",
    "DB_USER = os.getenv(\"DB_USER\")\n",
    "DB_PASSWORD = os.getenv(\"DB_PASSWORD\")\n"
   ]
  },
  {
   "cell_type": "code",
   "execution_count": 3,
   "id": "9a3ef7f7",
   "metadata": {},
   "outputs": [],
   "source": [
    "engine = create_engine('postgresql+pg8000://'+DB_USER+':'+DB_PASSWORD+'@'+DB_HOST+':5432/'+DB_NAME)"
   ]
  },
  {
   "cell_type": "code",
   "execution_count": 7,
   "id": "5fbc52a0",
   "metadata": {},
   "outputs": [
    {
     "name": "stdout",
     "output_type": "stream",
     "text": [
      "     uid                                               data\n",
      "0  DaveM  {\"displayname\":{\"value\":\"Dave\",\"scope\":\"v2-fed...\n",
      "1    Mel  {\"displayname\":{\"value\":\"Mel\",\"scope\":\"v2-fede...\n",
      "2  Annak  {\"displayname\":{\"value\":\"Anna\",\"scope\":\"v2-fed...\n",
      "3    Wop  {\"displayname\":{\"value\":\"Wop\",\"scope\":\"v2-fede...\n",
      "4    Tom  {\"displayname\":{\"value\":\"Tom\",\"scope\":\"v2-fede...\n"
     ]
    }
   ],
   "source": [
    "try:\n",
    "\tdf = pd.read_sql_query(sqlalchemy.text(\"SELECT * FROM public.oc_accounts\"), engine)\n",
    "\tprint(df.head())\n",
    "except Exception as e:\n",
    "\tprint(\"Error:\", e)"
   ]
  },
  {
   "cell_type": "code",
   "execution_count": null,
   "id": "32b6845c",
   "metadata": {},
   "outputs": [],
   "source": []
  }
 ],
 "metadata": {
  "kernelspec": {
   "display_name": "Python 3",
   "language": "python",
   "name": "python3"
  },
  "language_info": {
   "codemirror_mode": {
    "name": "ipython",
    "version": 3
   },
   "file_extension": ".py",
   "mimetype": "text/x-python",
   "name": "python",
   "nbconvert_exporter": "python",
   "pygments_lexer": "ipython3",
   "version": "3.13.3"
  }
 },
 "nbformat": 4,
 "nbformat_minor": 5
}
